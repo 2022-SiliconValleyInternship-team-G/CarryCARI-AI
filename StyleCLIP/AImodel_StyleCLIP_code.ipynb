{
  "nbformat": 4,
  "nbformat_minor": 0,
  "metadata": {
    "colab": {
      "name": "AImodel_StyleCLIP_code.ipynb",
      "provenance": [],
      "collapsed_sections": []
    },
    "kernelspec": {
      "name": "python3",
      "display_name": "Python 3"
    },
    "language_info": {
      "name": "python"
    },
    "accelerator": "GPU",
    "gpuClass": "standard"
  },
  "cells": [
    {
      "cell_type": "markdown",
      "source": [
        "**pip install**"
      ],
      "metadata": {
        "id": "WnD3tlOxN-cr"
      }
    },
    {
      "cell_type": "code",
      "source": [
        "!pip install torch==1.7.1+cu110 torchvision==0.8.2+cu110 torchaudio==0.7.2 -f https://download.pytorch.org/whl/torch_stable.html \n",
        "!pip install tensorflow==1.15\n",
        "!pip install ftfy regex tqdm \n",
        "!pip install git+https://github.com/openai/CLIP.git "
      ],
      "metadata": {
        "id": "hYMD-UPwODjO"
      },
      "execution_count": null,
      "outputs": []
    },
    {
      "cell_type": "markdown",
      "source": [
        "**project structure**"
      ],
      "metadata": {
        "id": "GjT_MNs5OJpz"
      }
    },
    {
      "cell_type": "code",
      "source": [
        "#ml/StyleCLIP (폴더로 down)\n",
        "!git clone https://github.com/orpatashnik/StyleCLIP\n",
        "\n",
        "#ml/StyleCLIP/golbal_directions\n",
        "!wget http://dlib.net/files/shape_predictor_68_face_landmarks.dat.bz2\n",
        "!bzip2 -dk shape_predictor_68_face_landmarks.dat.bz2\n",
        "\n",
        "#ml/encoder4editing\n",
        "!git clone https://github.com/omertov/encoder4editing.git\n",
        "\n",
        "#ml/encoder4editing\n",
        "from gdown import download as drive_download\n",
        "drive_download(\"https://drive.google.com/uc?id=1O8OLrVNOItOJoNGMyQ8G8YRTeTYEfs0P\", \"/content/ml/encoder4editing/e4e_ffhq_encode.pt\", quiet=False)\n",
        "\n",
        "### ninja-linux\n",
        "!wget https://github.com/ninja-build/ninja/releases/download/v1.8.2/ninja-linux.zip\n",
        "!sudo unzip ninja-linux.zip -d /usr/local/bin/\n",
        "!sudo update-alternatives --install /usr/bin/ninja ninja /usr/local/bin/ninja 1 --force\n",
        "###"
      ],
      "metadata": {
        "id": "Hus0EDUtipSq"
      },
      "execution_count": null,
      "outputs": []
    },
    {
      "cell_type": "markdown",
      "source": [
        "**prepare_dataset**\n"
      ],
      "metadata": {
        "id": "pHt_ab36OhhD"
      }
    },
    {
      "cell_type": "code",
      "source": [
        "#cd /content/ml/StyleCLIP/global_directions\n",
        "\n",
        "# input prepare data \n",
        "!python GetCode.py --dataset_name 'ffhq' --code_type 'w' \n",
        "!python GetCode.py --dataset_name 'ffhq' --code_type 's' \n",
        "!python GetCode.py --dataset_name 'ffhq' --code_type 's_mean_std' "
      ],
      "metadata": {
        "id": "8L6E3hSwOizz"
      },
      "execution_count": null,
      "outputs": []
    },
    {
      "cell_type": "markdown",
      "source": [
        "**sys.path()**"
      ],
      "metadata": {
        "id": "Ct5Blx3LOmBn"
      }
    },
    {
      "cell_type": "code",
      "source": [
        "import sys\n",
        "sys.path.append('/content/ml/encoder4editing')\n",
        "sys.path.append('/content/ml/StyleCLIP')\n",
        "sys.path.append('/content/ml/encoder4editing/utils')\n",
        "sys.path.append('/content/ml')"
      ],
      "metadata": {
        "id": "vggs0qaFOoP_"
      },
      "execution_count": null,
      "outputs": []
    },
    {
      "cell_type": "markdown",
      "source": [
        "main(view.py)"
      ],
      "metadata": {
        "id": "boFwnwS3P3Ve"
      }
    },
    {
      "cell_type": "code",
      "source": [
        "import ai\n",
        "\n",
        "user_id = 9\n",
        "image_path = f\"/content/assets/user_image/user_{user_id}.jpg\"\n",
        "emotion = 3\n",
        "ai.generate_imageclip(user_id, image_path, emotion)"
      ],
      "metadata": {
        "id": "k21P7Nd9P3EO"
      },
      "execution_count": null,
      "outputs": []
    }
  ]
}